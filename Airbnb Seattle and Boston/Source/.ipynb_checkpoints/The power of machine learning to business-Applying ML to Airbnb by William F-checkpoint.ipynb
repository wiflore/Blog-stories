{
 "cells": [
  {
   "cell_type": "markdown",
   "metadata": {
    "toc": true
   },
   "source": [
    "<h1>Table of Contents<span class=\"tocSkip\"></span></h1>\n",
    "<div class=\"toc\"><ul class=\"toc-item\"><li><span><a href=\"#Business-Understanding\" data-toc-modified-id=\"Business-Understanding-1\"><span class=\"toc-item-num\">1&nbsp;&nbsp;</span>Business Understanding</a></span><ul class=\"toc-item\"><li><span><a href=\"#Business\" data-toc-modified-id=\"Business-1.1\"><span class=\"toc-item-num\">1.1&nbsp;&nbsp;</span>Business</a></span></li><li><span><a href=\"#Company-Overview\" data-toc-modified-id=\"Company-Overview-1.2\"><span class=\"toc-item-num\">1.2&nbsp;&nbsp;</span>Company Overview</a></span></li></ul></li><li><span><a href=\"#Data-Understading\" data-toc-modified-id=\"Data-Understading-2\"><span class=\"toc-item-num\">2&nbsp;&nbsp;</span>Data Understading</a></span><ul class=\"toc-item\"><li><span><a href=\"#Data-Source\" data-toc-modified-id=\"Data-Source-2.1\"><span class=\"toc-item-num\">2.1&nbsp;&nbsp;</span>Data Source</a></span></li><li><span><a href=\"#Description\" data-toc-modified-id=\"Description-2.2\"><span class=\"toc-item-num\">2.2&nbsp;&nbsp;</span>Description</a></span></li><li><span><a href=\"#Loading-data\" data-toc-modified-id=\"Loading-data-2.3\"><span class=\"toc-item-num\">2.3&nbsp;&nbsp;</span>Loading data</a></span></li><li><span><a href=\"#Checking-the-shape-of-the-data\" data-toc-modified-id=\"Checking-the-shape-of-the-data-2.4\"><span class=\"toc-item-num\">2.4&nbsp;&nbsp;</span>Checking the shape of the data</a></span></li><li><span><a href=\"#Looking-for-differences-in-columns-between-Seattle-and-Boston\" data-toc-modified-id=\"Looking-for-differences-in-columns-between-Seattle-and-Boston-2.5\"><span class=\"toc-item-num\">2.5&nbsp;&nbsp;</span>Looking for differences in columns between Seattle and Boston</a></span></li></ul></li><li><span><a href=\"#Preparate-Data\" data-toc-modified-id=\"Preparate-Data-3\"><span class=\"toc-item-num\">3&nbsp;&nbsp;</span>Preparate Data</a></span><ul class=\"toc-item\"><li><span><a href=\"#Drop-intersection\" data-toc-modified-id=\"Drop-intersection-3.1\"><span class=\"toc-item-num\">3.1&nbsp;&nbsp;</span>Drop intersection</a></span></li><li><span><a href=\"#Identify-Datasets\" data-toc-modified-id=\"Identify-Datasets-3.2\"><span class=\"toc-item-num\">3.2&nbsp;&nbsp;</span>Identify Datasets</a></span></li><li><span><a href=\"#Concatenating-Datasets\" data-toc-modified-id=\"Concatenating-Datasets-3.3\"><span class=\"toc-item-num\">3.3&nbsp;&nbsp;</span>Concatenating Datasets</a></span></li><li><span><a href=\"#Handle-Missing-Values-Columms\" data-toc-modified-id=\"Handle-Missing-Values-Columms-3.4\"><span class=\"toc-item-num\">3.4&nbsp;&nbsp;</span>Handle Missing Values Columms</a></span></li><li><span><a href=\"#Keep-features-to-analyze\" data-toc-modified-id=\"Keep-features-to-analyze-3.5\"><span class=\"toc-item-num\">3.5&nbsp;&nbsp;</span>Keep features to analyze</a></span><ul class=\"toc-item\"><li><span><a href=\"#features-selection\" data-toc-modified-id=\"features-selection-3.5.1\"><span class=\"toc-item-num\">3.5.1&nbsp;&nbsp;</span>features selection</a></span></li></ul></li><li><span><a href=\"#Formatting\" data-toc-modified-id=\"Formatting-3.6\"><span class=\"toc-item-num\">3.6&nbsp;&nbsp;</span>Formatting</a></span></li><li><span><a href=\"#Handle-Missing-Values-Rows\" data-toc-modified-id=\"Handle-Missing-Values-Rows-3.7\"><span class=\"toc-item-num\">3.7&nbsp;&nbsp;</span>Handle Missing Values Rows</a></span></li><li><span><a href=\"#Categorical-variables\" data-toc-modified-id=\"Categorical-variables-3.8\"><span class=\"toc-item-num\">3.8&nbsp;&nbsp;</span>Categorical variables</a></span></li></ul></li><li><span><a href=\"#Model-Data\" data-toc-modified-id=\"Model-Data-4\"><span class=\"toc-item-num\">4&nbsp;&nbsp;</span>Model Data</a></span><ul class=\"toc-item\"><li><span><a href=\"#EDA\" data-toc-modified-id=\"EDA-4.1\"><span class=\"toc-item-num\">4.1&nbsp;&nbsp;</span>EDA</a></span><ul class=\"toc-item\"><li><span><a href=\"#Univariate\" data-toc-modified-id=\"Univariate-4.1.1\"><span class=\"toc-item-num\">4.1.1&nbsp;&nbsp;</span>Univariate</a></span><ul class=\"toc-item\"><li><span><a href=\"#Categoricals\" data-toc-modified-id=\"Categoricals-4.1.1.1\"><span class=\"toc-item-num\">4.1.1.1&nbsp;&nbsp;</span>Categoricals</a></span></li><li><span><a href=\"#Numerical\" data-toc-modified-id=\"Numerical-4.1.1.2\"><span class=\"toc-item-num\">4.1.1.2&nbsp;&nbsp;</span>Numerical</a></span></li></ul></li></ul></li><li><span><a href=\"#PCA-to-looking-insights\" data-toc-modified-id=\"PCA-to-looking-insights-4.2\"><span class=\"toc-item-num\">4.2&nbsp;&nbsp;</span>PCA to looking insights</a></span><ul class=\"toc-item\"><li><span><a href=\"#PCA-dummies\" data-toc-modified-id=\"PCA-dummies-4.2.1\"><span class=\"toc-item-num\">4.2.1&nbsp;&nbsp;</span>PCA dummies</a></span></li><li><span><a href=\"#Boston\" data-toc-modified-id=\"Boston-4.2.2\"><span class=\"toc-item-num\">4.2.2&nbsp;&nbsp;</span>Boston</a></span></li><li><span><a href=\"#Seattle\" data-toc-modified-id=\"Seattle-4.2.3\"><span class=\"toc-item-num\">4.2.3&nbsp;&nbsp;</span>Seattle</a></span></li><li><span><a href=\"#PCA-Results\" data-toc-modified-id=\"PCA-Results-4.2.4\"><span class=\"toc-item-num\">4.2.4&nbsp;&nbsp;</span>PCA Results</a></span></li></ul></li><li><span><a href=\"#Regressor-and-Classifiers\" data-toc-modified-id=\"Regressor-and-Classifiers-4.3\"><span class=\"toc-item-num\">4.3&nbsp;&nbsp;</span>Regressor and Classifiers</a></span><ul class=\"toc-item\"><li><span><a href=\"#Advance-tranformations:-Dummies-and-Subsetting\" data-toc-modified-id=\"Advance-tranformations:-Dummies-and-Subsetting-4.3.1\"><span class=\"toc-item-num\">4.3.1&nbsp;&nbsp;</span>Advance tranformations: Dummies and Subsetting</a></span></li><li><span><a href=\"#Price-Regression\" data-toc-modified-id=\"Price-Regression-4.3.2\"><span class=\"toc-item-num\">4.3.2&nbsp;&nbsp;</span>Price Regression</a></span><ul class=\"toc-item\"><li><span><a href=\"#Boston-All-Features\" data-toc-modified-id=\"Boston-All-Features-4.3.2.1\"><span class=\"toc-item-num\">4.3.2.1&nbsp;&nbsp;</span>Boston All Features</a></span></li><li><span><a href=\"#Boston-Amnities\" data-toc-modified-id=\"Boston-Amnities-4.3.2.2\"><span class=\"toc-item-num\">4.3.2.2&nbsp;&nbsp;</span>Boston Amnities</a></span></li><li><span><a href=\"#Boston-Neighbourhood\" data-toc-modified-id=\"Boston-Neighbourhood-4.3.2.3\"><span class=\"toc-item-num\">4.3.2.3&nbsp;&nbsp;</span>Boston Neighbourhood</a></span></li><li><span><a href=\"#Seattle-All-Features\" data-toc-modified-id=\"Seattle-All-Features-4.3.2.4\"><span class=\"toc-item-num\">4.3.2.4&nbsp;&nbsp;</span>Seattle All Features</a></span></li><li><span><a href=\"#Seattle-Amnities\" data-toc-modified-id=\"Seattle-Amnities-4.3.2.5\"><span class=\"toc-item-num\">4.3.2.5&nbsp;&nbsp;</span>Seattle Amnities</a></span></li><li><span><a href=\"#Seattle-Neighbourhood\" data-toc-modified-id=\"Seattle-Neighbourhood-4.3.2.6\"><span class=\"toc-item-num\">4.3.2.6&nbsp;&nbsp;</span>Seattle Neighbourhood</a></span></li></ul></li><li><span><a href=\"#Review-Score-Classifier\" data-toc-modified-id=\"Review-Score-Classifier-4.3.3\"><span class=\"toc-item-num\">4.3.3&nbsp;&nbsp;</span>Review Score Classifier</a></span><ul class=\"toc-item\"><li><span><a href=\"#Boston-All-Features\" data-toc-modified-id=\"Boston-All-Features-4.3.3.1\"><span class=\"toc-item-num\">4.3.3.1&nbsp;&nbsp;</span>Boston All Features</a></span></li><li><span><a href=\"#Boston-Amnities\" data-toc-modified-id=\"Boston-Amnities-4.3.3.2\"><span class=\"toc-item-num\">4.3.3.2&nbsp;&nbsp;</span>Boston Amnities</a></span></li><li><span><a href=\"#Boston-Neighbourhood\" data-toc-modified-id=\"Boston-Neighbourhood-4.3.3.3\"><span class=\"toc-item-num\">4.3.3.3&nbsp;&nbsp;</span>Boston Neighbourhood</a></span></li><li><span><a href=\"#Seattle-All-Features\" data-toc-modified-id=\"Seattle-All-Features-4.3.3.4\"><span class=\"toc-item-num\">4.3.3.4&nbsp;&nbsp;</span>Seattle All Features</a></span></li><li><span><a href=\"#Seattle-Amnities\" data-toc-modified-id=\"Seattle-Amnities-4.3.3.5\"><span class=\"toc-item-num\">4.3.3.5&nbsp;&nbsp;</span>Seattle Amnities</a></span></li><li><span><a href=\"#Seattle-Neighbourhood\" data-toc-modified-id=\"Seattle-Neighbourhood-4.3.3.6\"><span class=\"toc-item-num\">4.3.3.6&nbsp;&nbsp;</span>Seattle Neighbourhood</a></span></li></ul></li></ul></li><li><span><a href=\"#Host-Type-Classifier\" data-toc-modified-id=\"Host-Type-Classifier-4.4\"><span class=\"toc-item-num\">4.4&nbsp;&nbsp;</span>Host Type Classifier</a></span><ul class=\"toc-item\"><li><ul class=\"toc-item\"><li><span><a href=\"#Boston-All-Features\" data-toc-modified-id=\"Boston-All-Features-4.4.0.1\"><span class=\"toc-item-num\">4.4.0.1&nbsp;&nbsp;</span>Boston All Features</a></span></li><li><span><a href=\"#Boston-Amnities\" data-toc-modified-id=\"Boston-Amnities-4.4.0.2\"><span class=\"toc-item-num\">4.4.0.2&nbsp;&nbsp;</span>Boston Amnities</a></span></li><li><span><a href=\"#Boston-Neighbourhood\" data-toc-modified-id=\"Boston-Neighbourhood-4.4.0.3\"><span class=\"toc-item-num\">4.4.0.3&nbsp;&nbsp;</span>Boston Neighbourhood</a></span></li><li><span><a href=\"#Seattle-All-Features\" data-toc-modified-id=\"Seattle-All-Features-4.4.0.4\"><span class=\"toc-item-num\">4.4.0.4&nbsp;&nbsp;</span>Seattle All Features</a></span></li><li><span><a href=\"#Seattle-Amnities\" data-toc-modified-id=\"Seattle-Amnities-4.4.0.5\"><span class=\"toc-item-num\">4.4.0.5&nbsp;&nbsp;</span>Seattle Amnities</a></span></li><li><span><a href=\"#Seattle-Neighbourhood\" data-toc-modified-id=\"Seattle-Neighbourhood-4.4.0.6\"><span class=\"toc-item-num\">4.4.0.6&nbsp;&nbsp;</span>Seattle Neighbourhood</a></span></li></ul></li></ul></li><li><span><a href=\"#Results\" data-toc-modified-id=\"Results-4.5\"><span class=\"toc-item-num\">4.5&nbsp;&nbsp;</span>Results</a></span><ul class=\"toc-item\"><li><span><a href=\"#Multivariate-EDA\" data-toc-modified-id=\"Multivariate-EDA-4.5.1\"><span class=\"toc-item-num\">4.5.1&nbsp;&nbsp;</span>Multivariate EDA</a></span><ul class=\"toc-item\"><li><span><a href=\"#Price\" data-toc-modified-id=\"Price-4.5.1.1\"><span class=\"toc-item-num\">4.5.1.1&nbsp;&nbsp;</span>Price</a></span></li></ul></li><li><span><a href=\"#Review_scores_value\" data-toc-modified-id=\"Review_scores_value-4.5.2\"><span class=\"toc-item-num\">4.5.2&nbsp;&nbsp;</span>Review_scores_value</a></span></li></ul></li><li><span><a href=\"#Deployment\" data-toc-modified-id=\"Deployment-4.6\"><span class=\"toc-item-num\">4.6&nbsp;&nbsp;</span>Deployment</a></span></li></ul></li></ul></div>"
   ]
  },
  {
   "cell_type": "code",
   "execution_count": 1,
   "metadata": {
    "ExecuteTime": {
     "end_time": "2019-03-31T22:13:53.703286Z",
     "start_time": "2019-03-31T22:13:50.855002Z"
    }
   },
   "outputs": [],
   "source": [
    "import numpy as np\n",
    "import pandas as pd\n",
    "import matplotlib.pyplot as plt\n",
    "import datetime\n",
    "import matplotlib.pyplot as plt\n",
    "import seaborn as sb\n",
    "import os\n",
    "\n",
    "from sklearn.preprocessing import StandardScaler, RobustScaler\n",
    "from sklearn.metrics import r2_score, mean_squared_error\n",
    "from sklearn.metrics import accuracy_score\n",
    "from sklearn.model_selection import train_test_split\n",
    "from scipy import stats\n",
    "from xgboost import XGBRegressor\n",
    "from xgboost import XGBClassifier\n",
    "\n",
    "from helpers import *\n",
    "\n",
    "%matplotlib inline\n",
    "pd.set_option('display.max_columns', 500)"
   ]
  },
  {
   "cell_type": "markdown",
   "metadata": {},
   "source": [
    "##  Business Understanding\n",
    "\n",
    "\n",
    "### Business \n",
    "\n",
    "This is an approach of the power of machine learning combinated with business data gattering strategy that will make you think again about the importance of data and why the skills to analyze it is **changing the world**. \n",
    "\n",
    "Here are a couple questions what \n",
    "\n",
    " - Which are the most importante features that influnce prices?   \n",
    " - Which categories of ammenities are more connected with price and review score? \n",
    " - How neightbooh helps to determine the price formation?\n",
    " - Which are the relationship between neightwood and review score?\n",
    "\n",
    "\n",
    "\n",
    "### Company Overview\n",
    "\n",
    "Airbnb, Inc. operates an online community marketplace for people to list, discover, and book accommodations worldwide online. It also allows to book from a mobile phone to individuals and businesses. It allows its users to share their travel experiences. The company allows people to rent out their extra space and showcase it to audience. It also publishes an online travel magazine under the brand name Airbnbmag. Airbnb, Inc. was formerly known as AirBed & Breakfast, Inc. and changed its name to Airbnb, Inc. in March 2009. The company was founded in 2008 and is based in San Francisco, California, with offices across North America, Europe, and Asia. Source: Bloomberg.com  "
   ]
  },
  {
   "cell_type": "markdown",
   "metadata": {},
   "source": [
    "## Data Understading\n",
    "- Data Source\n",
    "- Desctiption\n",
    "- Loading Data\n",
    "- Checking the shape of the data\n",
    "- Looking for differences in columns between Boston and Seattle\n",
    "\n",
    "### Data Source\n",
    "The data could be find in:  \n",
    "https://www.kaggle.com/airbnb/seattle/kernels   \n",
    "https://www.kaggle.com/airbnb/boston  \n",
    "\n",
    "### Description \n",
    "The data include attributes like host reponse rate, number of reviews, host listings, #beds, #bathrooms, amennities (cable tv, air conditioning, etc), neighbourhood, cancelation policy, and so on.  \n",
    "\n"
   ]
  },
  {
   "cell_type": "markdown",
   "metadata": {},
   "source": [
    "### Loading data"
   ]
  },
  {
   "cell_type": "code",
   "execution_count": 2,
   "metadata": {
    "ExecuteTime": {
     "end_time": "2019-03-31T22:14:01.100761Z",
     "start_time": "2019-03-31T22:13:53.826808Z"
    },
    "code_folding": []
   },
   "outputs": [],
   "source": [
    "seattle_listing = pd.read_csv(\n",
    "    \"https://raw.githubusercontent.com/wiflore/Blog-stories/master/data/listings_boston.csv\"\n",
    ")\n",
    "#https://www.kaggle.com/airbnb/seattle/data#listings.csv\n",
    "boston_listing = pd.read_csv(\n",
    "    \"https://raw.githubusercontent.com/wiflore/Blog-stories/master/data/listings_seattle.csv\"\n",
    ")\n",
    "#https://www.kaggle.com/airbnb/boston#listings.csv"
   ]
  },
  {
   "cell_type": "markdown",
   "metadata": {},
   "source": [
    "### Checking the shape of the data"
   ]
  },
  {
   "cell_type": "code",
   "execution_count": 3,
   "metadata": {
    "ExecuteTime": {
     "end_time": "2019-03-31T22:14:04.080514Z",
     "start_time": "2019-03-31T22:14:04.075516Z"
    }
   },
   "outputs": [
    {
     "name": "stdout",
     "output_type": "stream",
     "text": [
      "Shapes: seattle_listing (3585, 95) boston_listing (3818, 92) \n"
     ]
    }
   ],
   "source": [
    "print(\"\"\"Shapes: seattle_listing {} boston_listing {} \"\"\".format(\n",
    "    seattle_listing.shape, boston_listing.shape))"
   ]
  },
  {
   "cell_type": "markdown",
   "metadata": {},
   "source": [
    "### Looking for differences in columns between Seattle and Boston"
   ]
  },
  {
   "cell_type": "code",
   "execution_count": 4,
   "metadata": {
    "ExecuteTime": {
     "end_time": "2019-03-31T22:14:06.922537Z",
     "start_time": "2019-03-31T22:14:06.917875Z"
    }
   },
   "outputs": [
    {
     "name": "stdout",
     "output_type": "stream",
     "text": [
      "{'interaction', 'house_rules', 'access'}\n"
     ]
    }
   ],
   "source": [
    "print(\n",
    "    set(seattle_listing.columns).symmetric_difference(\n",
    "        set(boston_listing.columns)))"
   ]
  },
  {
   "cell_type": "markdown",
   "metadata": {},
   "source": [
    "## Preparate Data\n",
    "\n",
    "- Drop intesection \n",
    "\n",
    "- Identify Datasets\n",
    "\n",
    "- Concatenating Datasets\n",
    "\n",
    "- Handle Missing Values Columms  \n",
    "\n",
    "- Keep features to analyze \n",
    "\n",
    "- Formatting \n",
    "\n",
    "- Handle Missing Values Rows \n",
    "\n",
    "- Categorical variables \n"
   ]
  },
  {
   "cell_type": "markdown",
   "metadata": {},
   "source": [
    "### Drop intersection"
   ]
  },
  {
   "cell_type": "code",
   "execution_count": 5,
   "metadata": {
    "ExecuteTime": {
     "end_time": "2019-03-31T22:14:09.877668Z",
     "start_time": "2019-03-31T22:14:09.864496Z"
    }
   },
   "outputs": [
    {
     "ename": "KeyError",
     "evalue": "\"['interaction' 'house_rules' 'access'] not found in axis\"",
     "output_type": "error",
     "traceback": [
      "\u001b[0;31m---------------------------------------------------------------------------\u001b[0m",
      "\u001b[0;31mKeyError\u001b[0m                                  Traceback (most recent call last)",
      "\u001b[0;32m<ipython-input-5-0ddf3bf885cd>\u001b[0m in \u001b[0;36m<module>\u001b[0;34m\u001b[0m\n\u001b[1;32m      3\u001b[0m         set(boston_listing.columns)))\n\u001b[1;32m      4\u001b[0m \u001b[0;34m\u001b[0m\u001b[0m\n\u001b[0;32m----> 5\u001b[0;31m \u001b[0mboston_listing\u001b[0m\u001b[0;34m.\u001b[0m\u001b[0mdrop\u001b[0m\u001b[0;34m(\u001b[0m\u001b[0mlabels\u001b[0m\u001b[0;34m=\u001b[0m\u001b[0mcolums_todrop\u001b[0m\u001b[0;34m,\u001b[0m \u001b[0maxis\u001b[0m\u001b[0;34m=\u001b[0m\u001b[0;36m1\u001b[0m\u001b[0;34m,\u001b[0m \u001b[0minplace\u001b[0m\u001b[0;34m=\u001b[0m\u001b[0;32mTrue\u001b[0m\u001b[0;34m)\u001b[0m\u001b[0;34m\u001b[0m\u001b[0;34m\u001b[0m\u001b[0m\n\u001b[0m",
      "\u001b[0;32m~/anaconda3/lib/python3.7/site-packages/pandas/core/frame.py\u001b[0m in \u001b[0;36mdrop\u001b[0;34m(self, labels, axis, index, columns, level, inplace, errors)\u001b[0m\n\u001b[1;32m   3695\u001b[0m                                            \u001b[0mindex\u001b[0m\u001b[0;34m=\u001b[0m\u001b[0mindex\u001b[0m\u001b[0;34m,\u001b[0m \u001b[0mcolumns\u001b[0m\u001b[0;34m=\u001b[0m\u001b[0mcolumns\u001b[0m\u001b[0;34m,\u001b[0m\u001b[0;34m\u001b[0m\u001b[0;34m\u001b[0m\u001b[0m\n\u001b[1;32m   3696\u001b[0m                                            \u001b[0mlevel\u001b[0m\u001b[0;34m=\u001b[0m\u001b[0mlevel\u001b[0m\u001b[0;34m,\u001b[0m \u001b[0minplace\u001b[0m\u001b[0;34m=\u001b[0m\u001b[0minplace\u001b[0m\u001b[0;34m,\u001b[0m\u001b[0;34m\u001b[0m\u001b[0;34m\u001b[0m\u001b[0m\n\u001b[0;32m-> 3697\u001b[0;31m                                            errors=errors)\n\u001b[0m\u001b[1;32m   3698\u001b[0m \u001b[0;34m\u001b[0m\u001b[0m\n\u001b[1;32m   3699\u001b[0m     @rewrite_axis_style_signature('mapper', [('copy', True),\n",
      "\u001b[0;32m~/anaconda3/lib/python3.7/site-packages/pandas/core/generic.py\u001b[0m in \u001b[0;36mdrop\u001b[0;34m(self, labels, axis, index, columns, level, inplace, errors)\u001b[0m\n\u001b[1;32m   3109\u001b[0m         \u001b[0;32mfor\u001b[0m \u001b[0maxis\u001b[0m\u001b[0;34m,\u001b[0m \u001b[0mlabels\u001b[0m \u001b[0;32min\u001b[0m \u001b[0maxes\u001b[0m\u001b[0;34m.\u001b[0m\u001b[0mitems\u001b[0m\u001b[0;34m(\u001b[0m\u001b[0;34m)\u001b[0m\u001b[0;34m:\u001b[0m\u001b[0;34m\u001b[0m\u001b[0;34m\u001b[0m\u001b[0m\n\u001b[1;32m   3110\u001b[0m             \u001b[0;32mif\u001b[0m \u001b[0mlabels\u001b[0m \u001b[0;32mis\u001b[0m \u001b[0;32mnot\u001b[0m \u001b[0;32mNone\u001b[0m\u001b[0;34m:\u001b[0m\u001b[0;34m\u001b[0m\u001b[0;34m\u001b[0m\u001b[0m\n\u001b[0;32m-> 3111\u001b[0;31m                 \u001b[0mobj\u001b[0m \u001b[0;34m=\u001b[0m \u001b[0mobj\u001b[0m\u001b[0;34m.\u001b[0m\u001b[0m_drop_axis\u001b[0m\u001b[0;34m(\u001b[0m\u001b[0mlabels\u001b[0m\u001b[0;34m,\u001b[0m \u001b[0maxis\u001b[0m\u001b[0;34m,\u001b[0m \u001b[0mlevel\u001b[0m\u001b[0;34m=\u001b[0m\u001b[0mlevel\u001b[0m\u001b[0;34m,\u001b[0m \u001b[0merrors\u001b[0m\u001b[0;34m=\u001b[0m\u001b[0merrors\u001b[0m\u001b[0;34m)\u001b[0m\u001b[0;34m\u001b[0m\u001b[0;34m\u001b[0m\u001b[0m\n\u001b[0m\u001b[1;32m   3112\u001b[0m \u001b[0;34m\u001b[0m\u001b[0m\n\u001b[1;32m   3113\u001b[0m         \u001b[0;32mif\u001b[0m \u001b[0minplace\u001b[0m\u001b[0;34m:\u001b[0m\u001b[0;34m\u001b[0m\u001b[0;34m\u001b[0m\u001b[0m\n",
      "\u001b[0;32m~/anaconda3/lib/python3.7/site-packages/pandas/core/generic.py\u001b[0m in \u001b[0;36m_drop_axis\u001b[0;34m(self, labels, axis, level, errors)\u001b[0m\n\u001b[1;32m   3141\u001b[0m                 \u001b[0mnew_axis\u001b[0m \u001b[0;34m=\u001b[0m \u001b[0maxis\u001b[0m\u001b[0;34m.\u001b[0m\u001b[0mdrop\u001b[0m\u001b[0;34m(\u001b[0m\u001b[0mlabels\u001b[0m\u001b[0;34m,\u001b[0m \u001b[0mlevel\u001b[0m\u001b[0;34m=\u001b[0m\u001b[0mlevel\u001b[0m\u001b[0;34m,\u001b[0m \u001b[0merrors\u001b[0m\u001b[0;34m=\u001b[0m\u001b[0merrors\u001b[0m\u001b[0;34m)\u001b[0m\u001b[0;34m\u001b[0m\u001b[0;34m\u001b[0m\u001b[0m\n\u001b[1;32m   3142\u001b[0m             \u001b[0;32melse\u001b[0m\u001b[0;34m:\u001b[0m\u001b[0;34m\u001b[0m\u001b[0;34m\u001b[0m\u001b[0m\n\u001b[0;32m-> 3143\u001b[0;31m                 \u001b[0mnew_axis\u001b[0m \u001b[0;34m=\u001b[0m \u001b[0maxis\u001b[0m\u001b[0;34m.\u001b[0m\u001b[0mdrop\u001b[0m\u001b[0;34m(\u001b[0m\u001b[0mlabels\u001b[0m\u001b[0;34m,\u001b[0m \u001b[0merrors\u001b[0m\u001b[0;34m=\u001b[0m\u001b[0merrors\u001b[0m\u001b[0;34m)\u001b[0m\u001b[0;34m\u001b[0m\u001b[0;34m\u001b[0m\u001b[0m\n\u001b[0m\u001b[1;32m   3144\u001b[0m             \u001b[0mresult\u001b[0m \u001b[0;34m=\u001b[0m \u001b[0mself\u001b[0m\u001b[0;34m.\u001b[0m\u001b[0mreindex\u001b[0m\u001b[0;34m(\u001b[0m\u001b[0;34m**\u001b[0m\u001b[0;34m{\u001b[0m\u001b[0maxis_name\u001b[0m\u001b[0;34m:\u001b[0m \u001b[0mnew_axis\u001b[0m\u001b[0;34m}\u001b[0m\u001b[0;34m)\u001b[0m\u001b[0;34m\u001b[0m\u001b[0;34m\u001b[0m\u001b[0m\n\u001b[1;32m   3145\u001b[0m \u001b[0;34m\u001b[0m\u001b[0m\n",
      "\u001b[0;32m~/anaconda3/lib/python3.7/site-packages/pandas/core/indexes/base.py\u001b[0m in \u001b[0;36mdrop\u001b[0;34m(self, labels, errors)\u001b[0m\n\u001b[1;32m   4402\u001b[0m             \u001b[0;32mif\u001b[0m \u001b[0merrors\u001b[0m \u001b[0;34m!=\u001b[0m \u001b[0;34m'ignore'\u001b[0m\u001b[0;34m:\u001b[0m\u001b[0;34m\u001b[0m\u001b[0;34m\u001b[0m\u001b[0m\n\u001b[1;32m   4403\u001b[0m                 raise KeyError(\n\u001b[0;32m-> 4404\u001b[0;31m                     '{} not found in axis'.format(labels[mask]))\n\u001b[0m\u001b[1;32m   4405\u001b[0m             \u001b[0mindexer\u001b[0m \u001b[0;34m=\u001b[0m \u001b[0mindexer\u001b[0m\u001b[0;34m[\u001b[0m\u001b[0;34m~\u001b[0m\u001b[0mmask\u001b[0m\u001b[0;34m]\u001b[0m\u001b[0;34m\u001b[0m\u001b[0;34m\u001b[0m\u001b[0m\n\u001b[1;32m   4406\u001b[0m         \u001b[0;32mreturn\u001b[0m \u001b[0mself\u001b[0m\u001b[0;34m.\u001b[0m\u001b[0mdelete\u001b[0m\u001b[0;34m(\u001b[0m\u001b[0mindexer\u001b[0m\u001b[0;34m)\u001b[0m\u001b[0;34m\u001b[0m\u001b[0;34m\u001b[0m\u001b[0m\n",
      "\u001b[0;31mKeyError\u001b[0m: \"['interaction' 'house_rules' 'access'] not found in axis\""
     ]
    }
   ],
   "source": [
    "colums_todrop = list(\n",
    "    set(seattle_listing.columns).symmetric_difference(\n",
    "        set(boston_listing.columns)))\n",
    "\n",
    "boston_listing.drop(labels=colums_todrop, axis=1, inplace=True)"
   ]
  },
  {
   "cell_type": "markdown",
   "metadata": {},
   "source": [
    "### Identify Datasets  \n"
   ]
  },
  {
   "cell_type": "code",
   "execution_count": 6,
   "metadata": {
    "ExecuteTime": {
     "end_time": "2019-03-31T22:14:12.922513Z",
     "start_time": "2019-03-31T22:14:12.917011Z"
    }
   },
   "outputs": [],
   "source": [
    "boston_listing['city'], seattle_listing['city'] = 'Boston', 'Seattle'"
   ]
  },
  {
   "cell_type": "markdown",
   "metadata": {},
   "source": [
    "### Concatenating Datasets  "
   ]
  },
  {
   "cell_type": "code",
   "execution_count": null,
   "metadata": {
    "ExecuteTime": {
     "end_time": "2019-03-31T22:14:16.023871Z",
     "start_time": "2019-03-31T22:14:15.913737Z"
    }
   },
   "outputs": [],
   "source": [
    "listing = pd.concat([boston_listing, seattle_listing]).reset_index(drop=True)"
   ]
  },
  {
   "cell_type": "markdown",
   "metadata": {},
   "source": [
    "### Handle Missing Values Columms"
   ]
  },
  {
   "cell_type": "code",
   "execution_count": null,
   "metadata": {
    "ExecuteTime": {
     "end_time": "2019-03-31T22:14:20.447588Z",
     "start_time": "2019-03-31T22:14:20.089333Z"
    }
   },
   "outputs": [],
   "source": [
    "missings = missing_data(listing, 40)"
   ]
  },
  {
   "cell_type": "code",
   "execution_count": null,
   "metadata": {
    "ExecuteTime": {
     "end_time": "2019-03-31T22:14:25.407280Z",
     "start_time": "2019-03-31T22:14:24.978869Z"
    },
    "scrolled": false
   },
   "outputs": [],
   "source": [
    "missings = missing_data(listing, 40)\n",
    "drop_missings(listing, missings, 40)"
   ]
  },
  {
   "cell_type": "markdown",
   "metadata": {},
   "source": [
    "As prices is the the target variable I don't dropout it"
   ]
  },
  {
   "cell_type": "markdown",
   "metadata": {},
   "source": [
    "### Keep features to analyze\n"
   ]
  },
  {
   "cell_type": "code",
   "execution_count": null,
   "metadata": {
    "ExecuteTime": {
     "end_time": "2019-03-31T22:14:36.182799Z",
     "start_time": "2019-03-31T22:14:36.083121Z"
    }
   },
   "outputs": [],
   "source": [
    "display(listing.head(1))"
   ]
  },
  {
   "cell_type": "markdown",
   "metadata": {},
   "source": [
    "Looking for remain nan column that might be are not necessary"
   ]
  },
  {
   "cell_type": "code",
   "execution_count": null,
   "metadata": {
    "ExecuteTime": {
     "end_time": "2019-03-31T22:14:40.735649Z",
     "start_time": "2019-03-31T22:14:40.680582Z"
    },
    "scrolled": false
   },
   "outputs": [],
   "source": [
    "display(listing.info())"
   ]
  },
  {
   "cell_type": "markdown",
   "metadata": {},
   "source": [
    "#### features selection"
   ]
  },
  {
   "cell_type": "code",
   "execution_count": null,
   "metadata": {
    "ExecuteTime": {
     "end_time": "2019-03-31T22:14:45.156307Z",
     "start_time": "2019-03-31T22:14:45.149548Z"
    }
   },
   "outputs": [],
   "source": [
    "listing['calculated_host_listings_count'].max()"
   ]
  },
  {
   "cell_type": "code",
   "execution_count": null,
   "metadata": {
    "ExecuteTime": {
     "end_time": "2019-03-31T22:14:49.503696Z",
     "start_time": "2019-03-31T22:14:49.490408Z"
    }
   },
   "outputs": [],
   "source": [
    "num_col = len(listing.columns)\n",
    "listing = listing[[\n",
    "    'price', 'last_scraped', 'host_is_superhost', 'review_scores_value',\n",
    "    'host_since', 'host_response_time', 'host_response_rate',\n",
    "    'host_acceptance_rate', 'host_listings_count', 'number_of_reviews',\n",
    "    'is_location_exact', 'property_type', 'neighbourhood_cleansed',\n",
    "    'room_type', 'accommodates', 'bathrooms', 'bedrooms', 'beds', 'bed_type',\n",
    "    'amenities', 'guests_included', 'extra_people', 'availability_30',\n",
    "    'availability_60', 'availability_90', 'availability_365',\n",
    "    'instant_bookable', 'cancellation_policy', 'require_guest_profile_picture',\n",
    "    'require_guest_phone_verification', 'reviews_per_month', 'city'\n",
    "]]"
   ]
  },
  {
   "cell_type": "markdown",
   "metadata": {},
   "source": [
    "### Formatting\n",
    "\n"
   ]
  },
  {
   "cell_type": "code",
   "execution_count": null,
   "metadata": {
    "ExecuteTime": {
     "end_time": "2019-03-31T22:14:53.328808Z",
     "start_time": "2019-03-31T22:14:53.190023Z"
    }
   },
   "outputs": [],
   "source": [
    "dollar_sign_list = ['price', 'extra_people']\n",
    "percentage_sign_list = ['host_response_rate', 'host_acceptance_rate']\n",
    "\n",
    "for col in dollar_sign_list:\n",
    "    listing[col] = convert_to_number(listing, col, '$')\n",
    "\n",
    "for col in percentage_sign_list:\n",
    "    listing[col] = convert_to_number(listing, col, \"%\")\n",
    "\n",
    "listing['host_type'] = np.where(listing['host_is_superhost'] == 't',\n",
    "                                'Superhost', 'Normal')\n",
    "listing['days_as_member'] = pd.to_datetime(\n",
    "    listing['last_scraped']) - pd.to_datetime(listing['host_since'])\n",
    "listing['days_as_member'] = listing['days_as_member'].astype(int)\n",
    "\n",
    "drop_list = ['host_is_superhost', 'last_scraped', 'host_since']"
   ]
  },
  {
   "cell_type": "code",
   "execution_count": null,
   "metadata": {
    "ExecuteTime": {
     "end_time": "2019-03-31T22:14:56.787407Z",
     "start_time": "2019-03-31T22:14:56.770052Z"
    }
   },
   "outputs": [],
   "source": [
    "listing.drop(drop_list, axis=1, inplace=True)"
   ]
  },
  {
   "cell_type": "markdown",
   "metadata": {},
   "source": [
    "### Handle Missing Values Rows\n",
    "\n"
   ]
  },
  {
   "cell_type": "code",
   "execution_count": null,
   "metadata": {
    "ExecuteTime": {
     "end_time": "2019-03-31T22:15:00.458495Z",
     "start_time": "2019-03-31T22:15:00.108824Z"
    }
   },
   "outputs": [],
   "source": [
    "missings = (\n",
    "    listing.isnull().sum(axis=1) / len(listing.columns) * 100).sort_values(\n",
    "        ascending=False)\n",
    "plt.hist(missings[missings >= 0], bins=40)\n",
    "plt.xlabel('Percentage of missing value (%)')\n",
    "plt.ylabel('Counts')\n",
    "plt.title('Histogram of missing value counts in rows')\n",
    "plt.show()\n",
    "#\n",
    "bins = pd.cut(\n",
    "    missings, [0, 1, 2, 3, 4, 5, 6, 7, 8, 10, 15, 20, 30, 50, 80], right=False)\n",
    "agg = pd.DataFrame(\n",
    "    missings, columns=['missings']).groupby(bins)['missings'].agg(['count'])\n",
    "agg['weight'] = agg['count'] / len(missings)\n",
    "agg['cumsum'] = agg['weight'].cumsum()\n",
    "agg"
   ]
  },
  {
   "cell_type": "code",
   "execution_count": null,
   "metadata": {
    "ExecuteTime": {
     "end_time": "2019-03-31T22:15:03.940143Z",
     "start_time": "2019-03-31T22:15:03.917669Z"
    }
   },
   "outputs": [],
   "source": [
    "print(\"Percentage of data if drop all NaN {0:.2f}%\".format(\n",
    "    100 - len(listing.dropna()) / len(listing) * 100))"
   ]
  },
  {
   "cell_type": "code",
   "execution_count": null,
   "metadata": {
    "ExecuteTime": {
     "end_time": "2019-03-31T22:15:07.396207Z",
     "start_time": "2019-03-31T22:15:07.377282Z"
    }
   },
   "outputs": [],
   "source": [
    "listing.dropna(inplace=True)"
   ]
  },
  {
   "cell_type": "markdown",
   "metadata": {},
   "source": [
    "### Categorical variables"
   ]
  },
  {
   "cell_type": "code",
   "execution_count": null,
   "metadata": {
    "ExecuteTime": {
     "end_time": "2019-03-31T22:15:10.765642Z",
     "start_time": "2019-03-31T22:15:10.748062Z"
    }
   },
   "outputs": [],
   "source": [
    "listing.info()"
   ]
  },
  {
   "cell_type": "code",
   "execution_count": null,
   "metadata": {
    "ExecuteTime": {
     "end_time": "2019-03-31T22:15:15.729138Z",
     "start_time": "2019-03-31T22:15:14.121753Z"
    }
   },
   "outputs": [],
   "source": [
    "#l = listing['amenities'].str.strip('{}').str.split(',').values.tolist()\n",
    "listing['amenities'] = listing['amenities'].str.strip('{}').str.split(\n",
    "    ',').values.tolist()\n",
    "amnities_dummies = pd.get_dummies(listing['amenities'].apply(\n",
    "    pd.Series).stack()).sum(level=0)\n",
    "\n",
    "amnities_dummies.pop(\"\")\n",
    "listing.pop(\"amenities\")\n",
    "for col in amnities_dummies.columns:\n",
    "    listing[col] = amnities_dummies[col]\n",
    "\n",
    "# to chart better the amnneities\n",
    "listing_todraw = listing.copy()\n",
    "amnities_dummies_columns = amnities_dummies.columns\n",
    "amnities_dummies[amnities_dummies == 0] = 'No'\n",
    "amnities_dummies[amnities_dummies == 1] = 'Yes'\n",
    "\n",
    "for col in amnities_dummies.columns:\n",
    "    listing_todraw[col] = amnities_dummies[col]"
   ]
  },
  {
   "cell_type": "markdown",
   "metadata": {},
   "source": [
    "## Model Data\n",
    "\n",
    "- EDA  \n",
    "- PCA\n",
    "- Regression: Price\n",
    "- Classification: Review Score and Host Type\n"
   ]
  },
  {
   "cell_type": "markdown",
   "metadata": {},
   "source": [
    "### EDA\n",
    "\n",
    "#### Univariate"
   ]
  },
  {
   "cell_type": "markdown",
   "metadata": {},
   "source": [
    "##### Categoricals"
   ]
  },
  {
   "cell_type": "code",
   "execution_count": null,
   "metadata": {
    "ExecuteTime": {
     "end_time": "2019-03-31T22:15:21.091842Z",
     "start_time": "2019-03-31T22:15:21.073307Z"
    }
   },
   "outputs": [],
   "source": [
    "category_features = listing.select_dtypes(include=['object', 'uint8']).columns\n",
    "print(len(category_features))"
   ]
  },
  {
   "cell_type": "code",
   "execution_count": null,
   "metadata": {
    "ExecuteTime": {
     "end_time": "2019-03-31T22:16:08.742784Z",
     "start_time": "2019-03-31T22:15:26.249442Z"
    },
    "scrolled": true
   },
   "outputs": [],
   "source": [
    "df = listing_todraw\n",
    "plt.figure(figsize=[8, 200])\n",
    "\n",
    "rows = 57\n",
    "cols = 1\n",
    "count = 0\n",
    "#ax, fig = plt.subplots(rows, cols)\n",
    "palette = [sb.color_palette(\"Paired\")[1], sb.color_palette(\"Paired\")[0]]\n",
    "column = category_features\n",
    "len_boston = len(df[listing['city'] == 'Boston'])\n",
    "len_seattle = len(df[listing['city'] == 'Boston'])\n",
    "bar_width = 0.2\n",
    "opacity = 0.8\n",
    "for fig in range(rows * cols):\n",
    "\n",
    "    #column = category_features[count]\n",
    "    boston = df.loc[df['city'] ==\n",
    "                    'Boston', column[count]].value_counts() / len_boston\n",
    "    seattle = df.loc[df['city'] ==\n",
    "                     'Seattle', column[count]].value_counts() / len_seattle\n",
    "    n_groups = len(boston)\n",
    "    index = np.arange(n_groups)\n",
    "\n",
    "    if 'Yes' in boston.index:\n",
    "        boston = boston.reindex(index=['Yes', 'No'])\n",
    "        seattle = seattle.reindex(index=['Yes', 'No'])\n",
    "    if column[count] not in ['neightbourhood_cleansed', 'city']:\n",
    "        seattle = seattle.reindex(index=boston.index)\n",
    "\n",
    "    plt.subplot(rows, cols, fig + 1)\n",
    "    sb.set_color_codes(\"pastel\")\n",
    "    sb.set(style=\"white\")\n",
    "    sb.despine()\n",
    "    rects1 = plt.bar(\n",
    "        index,\n",
    "        boston,\n",
    "        bar_width,\n",
    "        alpha=opacity,\n",
    "        color=palette[0],\n",
    "        label='Boston')\n",
    "\n",
    "    rects2 = plt.bar(\n",
    "        index + bar_width,\n",
    "        seattle,\n",
    "        bar_width,\n",
    "        alpha=opacity,\n",
    "        color=palette[1],\n",
    "        label='Seatle')\n",
    "\n",
    "    plt.ylabel('Proportion')\n",
    "    plt.title(column[count])\n",
    "\n",
    "    plt.xticks(index + bar_width / 2, (boston.index))\n",
    "    plt.xticks(rotation=90)\n",
    "    plt.legend()\n",
    "    plt.tight_layout()\n",
    "    plt.subplots_adjust(hspace=1)\n",
    "    count += 1\n",
    "plt.show()"
   ]
  },
  {
   "cell_type": "markdown",
   "metadata": {},
   "source": [
    "##### Numerical"
   ]
  },
  {
   "cell_type": "code",
   "execution_count": null,
   "metadata": {
    "ExecuteTime": {
     "end_time": "2019-03-31T22:17:41.926396Z",
     "start_time": "2019-03-31T22:17:41.900685Z"
    }
   },
   "outputs": [],
   "source": [
    "numeric_variables = listing.select_dtypes(\n",
    "    include=['float64', 'int64', 'timedelta64'])\n",
    "len(numeric_variables.columns)"
   ]
  },
  {
   "cell_type": "code",
   "execution_count": null,
   "metadata": {
    "ExecuteTime": {
     "end_time": "2019-03-31T22:17:55.192040Z",
     "start_time": "2019-03-31T22:17:49.429847Z"
    },
    "scrolled": true
   },
   "outputs": [],
   "source": [
    "numeric_variables.hist(\n",
    "    figsize=(10, 100), bins=30, xlabelsize=8, ylabelsize=8, layout=(35, 2))\n",
    "plt.subplots_adjust(hspace=2)"
   ]
  },
  {
   "cell_type": "markdown",
   "metadata": {},
   "source": [
    "### PCA to looking insights"
   ]
  },
  {
   "cell_type": "markdown",
   "metadata": {},
   "source": [
    "#### PCA dummies"
   ]
  },
  {
   "cell_type": "code",
   "execution_count": null,
   "metadata": {
    "ExecuteTime": {
     "end_time": "2019-03-31T22:23:22.372609Z",
     "start_time": "2019-03-31T22:23:22.252361Z"
    }
   },
   "outputs": [],
   "source": [
    "threshold = 3\n",
    "listing_dummies = pd.get_dummies(listing)\n",
    "listing_dummies_boston = listing_dummies[listing_dummies['city_Boston'] == 1]\n",
    "listing_dummies_boston = removing_outliers(listing_dummies_boston, 'price')\n",
    "\n",
    "listing_dummies_seattle = listing_dummies[listing_dummies['city_Boston'] == 0]\n",
    "listing_dummies_seattle = removing_outliers(listing_dummies_seattle, 'price')"
   ]
  },
  {
   "cell_type": "markdown",
   "metadata": {},
   "source": [
    "#### Boston"
   ]
  },
  {
   "cell_type": "code",
   "execution_count": null,
   "metadata": {
    "ExecuteTime": {
     "end_time": "2019-03-31T22:23:38.233866Z",
     "start_time": "2019-03-31T22:23:38.060035Z"
    }
   },
   "outputs": [],
   "source": [
    "scaler = RobustScaler()\n",
    "df_std = scaler.fit_transform(listing_dummies_boston)\n",
    "\n",
    "pca = PCA()\n",
    "pca.fit(df_std)\n",
    "pca_data = pca.transform(df_std)"
   ]
  },
  {
   "cell_type": "code",
   "execution_count": null,
   "metadata": {
    "ExecuteTime": {
     "end_time": "2019-03-31T22:29:23.920701Z",
     "start_time": "2019-03-31T22:29:23.624787Z"
    }
   },
   "outputs": [],
   "source": [
    "# Re-apply PCA to the data while selecting for number of components to retain.\n",
    "\n",
    "scree_plot(pca)"
   ]
  },
  {
   "cell_type": "code",
   "execution_count": null,
   "metadata": {
    "ExecuteTime": {
     "end_time": "2019-03-31T22:24:08.718189Z",
     "start_time": "2019-03-31T22:24:08.660284Z"
    }
   },
   "outputs": [],
   "source": [
    "pca = PCA(n_components=3)\n",
    "pca.fit(df_std)\n",
    "pca_data = pca.transform(df_std)\n",
    "pca_boston = get_components(pca.components_, listing_dummies_seattle.columns,\n",
    "                            2)"
   ]
  },
  {
   "cell_type": "markdown",
   "metadata": {},
   "source": [
    "#### Seattle"
   ]
  },
  {
   "cell_type": "code",
   "execution_count": null,
   "metadata": {
    "ExecuteTime": {
     "end_time": "2019-03-31T22:24:25.320492Z",
     "start_time": "2019-03-31T22:24:25.150205Z"
    }
   },
   "outputs": [],
   "source": [
    "scaler = RobustScaler()\n",
    "df_std = scaler.fit_transform(listing_dummies_seattle)\n",
    "pca = PCA()\n",
    "pca.fit(df_std)\n",
    "pca_data = pca.transform(df_std)\n",
    "pca = PCA(n_components=3)\n",
    "pca.fit(df_std)\n",
    "pca_data = pca.transform(df_std)\n",
    "pca_seattle = get_components(pca.components_, listing_dummies_seattle.columns,\n",
    "                             2)"
   ]
  },
  {
   "cell_type": "markdown",
   "metadata": {
    "ExecuteTime": {
     "end_time": "2019-03-31T20:26:18.389469Z",
     "start_time": "2019-03-31T20:26:18.290014Z"
    }
   },
   "source": [
    "#### PCA Results"
   ]
  },
  {
   "cell_type": "code",
   "execution_count": null,
   "metadata": {
    "ExecuteTime": {
     "end_time": "2019-03-31T22:26:21.070932Z",
     "start_time": "2019-03-31T22:26:20.301479Z"
    },
    "scrolled": false
   },
   "outputs": [],
   "source": [
    "# plot side by side PCA_comps\n",
    "# ploting_main_pca_comp()\n",
    "\n",
    "rows = 2\n",
    "cols = 2\n",
    "n = 5\n",
    "#ax, fig = plt.subplots(rows, cols)\n",
    "df_pca = pd.DataFrame(pca_boston[\"PCA 1\"].sort_values(ascending=False).head(n))\n",
    "sb.set(style=\"white\")\n",
    "sb.set_color_codes(\"pastel\")\n",
    "sb.despine()\n",
    "plt.figure(figsize=(10, 7));\n",
    "plt.subplot(rows, cols, 1)\n",
    "column = df_pca.columns\n",
    "plt.title(\"Boston positive associate attribute\")\n",
    "sb.barplot(data=df_pca, x=df_pca.index.values, y=\"PCA 1\", color='b')\n",
    "sb.despine()\n",
    "plt.xticks(rotation=90)\n",
    "\n",
    "df_pca = pd.DataFrame(\n",
    "    pca_seattle[\"PCA 1\"].sort_values(ascending=False).head(n))\n",
    "plt.subplot(rows, cols, 2)\n",
    "column = df_pca.columns\n",
    "plt.title(\"Seattle positive associate attribute\")\n",
    "sb.barplot(data=df_pca, x=df_pca.index.values, y=\"PCA 1\", color='b')\n",
    "sb.despine()\n",
    "plt.xticks(rotation=90)\n",
    "\n",
    "df_pca = pd.DataFrame(pca_boston[\"PCA 1\"].sort_values(ascending=True).head(n))\n",
    "plt.subplot(rows, cols, 3)\n",
    "column = df_pca.columns\n",
    "plt.title(\"Boston negative associate attribute\")\n",
    "sb.barplot(data=df_pca, x=df_pca.index.values, y=\"PCA 1\", color='b')\n",
    "sb.despine()\n",
    "plt.xticks(rotation=90)\n",
    "plt.tight_layout()\n",
    "\n",
    "df_pca = pd.DataFrame(pca_seattle[\"PCA 1\"].sort_values(ascending=True).head(n))\n",
    "plt.subplot(rows, cols, 4)\n",
    "column = df_pca.columns\n",
    "plt.title(\"Seattle negative associate attribute\")\n",
    "sb.barplot(data=df_pca, x=df_pca.index.values, y=\"PCA 1\", color='b')\n",
    "sb.despine()\n",
    "plt.xticks(rotation=90)\n",
    "\n",
    "plt.subplots_adjust(hspace=1.8)\n",
    "plt.subplots_adjust(wspace=0.3)\n",
    "plt.show()\n",
    "    \n",
    "\n",
    "    "
   ]
  },
  {
   "cell_type": "markdown",
   "metadata": {
    "ExecuteTime": {
     "end_time": "2019-03-31T20:35:31.024474Z",
     "start_time": "2019-03-31T20:35:31.010256Z"
    }
   },
   "source": [
    "### Regressor and Classifiers"
   ]
  },
  {
   "cell_type": "markdown",
   "metadata": {},
   "source": [
    "#### Advance tranformations: Dummies and Subsetting"
   ]
  },
  {
   "cell_type": "code",
   "execution_count": null,
   "metadata": {
    "ExecuteTime": {
     "end_time": "2019-03-31T22:30:09.505712Z",
     "start_time": "2019-03-31T22:30:09.481918Z"
    }
   },
   "outputs": [],
   "source": [
    "not_neighbourhood = listing_dummies[listing_dummies.columns.drop(\n",
    "    list(listing_dummies.filter(regex='neighbourhood')))].columns\n",
    "\n",
    "listing_dummies.columns = listing_dummies.columns.str.replace(\n",
    "    \"neighbourhood_cleansed_\", \"\")\n",
    "\n",
    "not_amnities = listing_dummies.drop(amnities_dummies_columns, axis=1).columns"
   ]
  },
  {
   "cell_type": "markdown",
   "metadata": {},
   "source": [
    "#### Price Regression"
   ]
  },
  {
   "cell_type": "markdown",
   "metadata": {},
   "source": [
    "##### Boston All Features"
   ]
  },
  {
   "cell_type": "code",
   "execution_count": null,
   "metadata": {
    "ExecuteTime": {
     "end_time": "2019-03-31T22:30:25.761146Z",
     "start_time": "2019-03-31T22:30:22.950211Z"
    }
   },
   "outputs": [],
   "source": [
    "model_fit(df=listing_dummies, city='Boston', target='price', outlier='price')"
   ]
  },
  {
   "cell_type": "markdown",
   "metadata": {},
   "source": [
    "##### Boston Amnities"
   ]
  },
  {
   "cell_type": "code",
   "execution_count": null,
   "metadata": {
    "ExecuteTime": {
     "end_time": "2019-03-31T22:30:41.121036Z",
     "start_time": "2019-03-31T22:30:40.289633Z"
    }
   },
   "outputs": [],
   "source": [
    "feature_remove = not_amnities.drop(['price', 'city_Boston'])\n",
    "model_fit(\n",
    "    df=listing_dummies,\n",
    "    city='Boston',\n",
    "    target='price',\n",
    "    outlier='price',\n",
    "    remove_features=feature_remove)"
   ]
  },
  {
   "cell_type": "markdown",
   "metadata": {},
   "source": [
    "##### Boston Neighbourhood"
   ]
  },
  {
   "cell_type": "code",
   "execution_count": null,
   "metadata": {
    "ExecuteTime": {
     "end_time": "2019-03-31T22:30:57.281161Z",
     "start_time": "2019-03-31T22:30:55.681983Z"
    }
   },
   "outputs": [],
   "source": [
    "feature_remove = not_neighbourhood.drop(['price', 'city_Boston'])\n",
    "model_fit(\n",
    "    df=listing_dummies,\n",
    "    city='Boston',\n",
    "    target='price',\n",
    "    outlier='price',\n",
    "    remove_features=feature_remove)\n"
   ]
  },
  {
   "cell_type": "markdown",
   "metadata": {},
   "source": [
    "#####  Seattle All Features"
   ]
  },
  {
   "cell_type": "code",
   "execution_count": null,
   "metadata": {
    "ExecuteTime": {
     "end_time": "2019-03-31T22:31:15.083691Z",
     "start_time": "2019-03-31T22:31:11.770619Z"
    }
   },
   "outputs": [],
   "source": [
    "model_fit(df=listing_dummies, city='Seattle', target='price', outlier='price')"
   ]
  },
  {
   "cell_type": "markdown",
   "metadata": {},
   "source": [
    "##### Seattle Amnities"
   ]
  },
  {
   "cell_type": "code",
   "execution_count": null,
   "metadata": {
    "ExecuteTime": {
     "end_time": "2019-03-31T22:31:30.622470Z",
     "start_time": "2019-03-31T22:31:29.834256Z"
    },
    "scrolled": false
   },
   "outputs": [],
   "source": [
    "feature_remove = not_amnities.drop(['price', 'city_Seattle'])\n",
    "model_fit(\n",
    "    df=listing_dummies,\n",
    "    city='Seattle',\n",
    "    target='price',\n",
    "    outlier='price',\n",
    "    remove_features=feature_remove)"
   ]
  },
  {
   "cell_type": "markdown",
   "metadata": {},
   "source": [
    "##### Seattle Neighbourhood"
   ]
  },
  {
   "cell_type": "code",
   "execution_count": null,
   "metadata": {
    "ExecuteTime": {
     "end_time": "2019-03-31T22:31:48.494949Z",
     "start_time": "2019-03-31T22:31:46.438595Z"
    }
   },
   "outputs": [],
   "source": [
    "feature_remove = not_neighbourhood.drop(['price', 'city_Seattle'])\n",
    "model_fit(\n",
    "    df=listing_dummies,\n",
    "    city='Seattle',\n",
    "    target='price',\n",
    "    outlier='price',\n",
    "    remove_features=feature_remove)"
   ]
  },
  {
   "cell_type": "markdown",
   "metadata": {},
   "source": [
    "#### Review Score Classifier"
   ]
  },
  {
   "cell_type": "markdown",
   "metadata": {},
   "source": [
    "#####  Boston All Features"
   ]
  },
  {
   "cell_type": "code",
   "execution_count": null,
   "metadata": {
    "ExecuteTime": {
     "end_time": "2019-03-31T22:32:34.798335Z",
     "start_time": "2019-03-31T22:32:06.072679Z"
    },
    "scrolled": false
   },
   "outputs": [],
   "source": [
    "model_fit(\n",
    "    df=listing_dummies,\n",
    "    city='Boston',\n",
    "    target='review_scores_value',\n",
    "    outlier=False,\n",
    "    classifier=True,\n",
    ")"
   ]
  },
  {
   "cell_type": "markdown",
   "metadata": {},
   "source": [
    "#####  Boston Amnities"
   ]
  },
  {
   "cell_type": "code",
   "execution_count": null,
   "metadata": {
    "ExecuteTime": {
     "end_time": "2019-03-31T22:32:54.153241Z",
     "start_time": "2019-03-31T22:32:48.567998Z"
    }
   },
   "outputs": [],
   "source": [
    "feature_remove = not_amnities.drop(['review_scores_value', 'city_Boston'])\n",
    "model_fit(\n",
    "    df=listing_dummies,\n",
    "    city='Boston',\n",
    "    target='review_scores_value',\n",
    "    remove_features=feature_remove,\n",
    "    classifier=True)"
   ]
  },
  {
   "cell_type": "markdown",
   "metadata": {},
   "source": [
    " ##### Boston Neighbourhood"
   ]
  },
  {
   "cell_type": "code",
   "execution_count": null,
   "metadata": {
    "ExecuteTime": {
     "end_time": "2019-03-31T22:33:25.111310Z",
     "start_time": "2019-03-31T22:33:08.205753Z"
    }
   },
   "outputs": [],
   "source": [
    "feature_remove = not_neighbourhood.drop(['review_scores_value', 'city_Boston'])\n",
    "model_fit(\n",
    "    df=listing_dummies,\n",
    "    city='Boston',\n",
    "    target='review_scores_value',\n",
    "    remove_features=feature_remove,\n",
    "    classifier=True)"
   ]
  },
  {
   "cell_type": "markdown",
   "metadata": {},
   "source": [
    "#####  Seattle All Features"
   ]
  },
  {
   "cell_type": "code",
   "execution_count": null,
   "metadata": {
    "ExecuteTime": {
     "end_time": "2019-03-31T22:33:58.374585Z",
     "start_time": "2019-03-31T22:33:40.423207Z"
    }
   },
   "outputs": [],
   "source": [
    "model_fit(\n",
    "    df=listing_dummies,\n",
    "    city='Seattle',\n",
    "    target='review_scores_value',\n",
    "    outlier=False,\n",
    "    classifier=True,\n",
    ")"
   ]
  },
  {
   "cell_type": "markdown",
   "metadata": {},
   "source": [
    "##### Seattle Amnities"
   ]
  },
  {
   "cell_type": "code",
   "execution_count": null,
   "metadata": {
    "ExecuteTime": {
     "end_time": "2019-03-31T22:34:16.275045Z",
     "start_time": "2019-03-31T22:34:12.123898Z"
    }
   },
   "outputs": [],
   "source": [
    "feature_remove = not_amnities.drop(['review_scores_value', 'city_Seattle'])\n",
    "model_fit(\n",
    "    df=listing_dummies,\n",
    "    city='Seattle',\n",
    "    target='review_scores_value',\n",
    "    remove_features=feature_remove,\n",
    "    classifier=True)"
   ]
  },
  {
   "cell_type": "markdown",
   "metadata": {},
   "source": [
    "##### Seattle Neighbourhood"
   ]
  },
  {
   "cell_type": "code",
   "execution_count": null,
   "metadata": {
    "ExecuteTime": {
     "end_time": "2019-03-31T22:34:39.412809Z",
     "start_time": "2019-03-31T22:34:29.913362Z"
    }
   },
   "outputs": [],
   "source": [
    "feature_remove = not_neighbourhood.drop(\n",
    "    ['review_scores_value', 'city_Seattle'])\n",
    "model_fit(\n",
    "    df=listing_dummies,\n",
    "    city='Seattle',\n",
    "    target='review_scores_value',\n",
    "    remove_features=feature_remove,\n",
    "    classifier=True)"
   ]
  },
  {
   "cell_type": "markdown",
   "metadata": {},
   "source": [
    "### Host Type Classifier"
   ]
  },
  {
   "cell_type": "markdown",
   "metadata": {},
   "source": [
    "##### Boston All Features"
   ]
  },
  {
   "cell_type": "code",
   "execution_count": null,
   "metadata": {
    "ExecuteTime": {
     "end_time": "2019-03-31T22:34:55.443974Z",
     "start_time": "2019-03-31T22:34:52.589706Z"
    }
   },
   "outputs": [],
   "source": [
    "model_fit(\n",
    "    df=listing_dummies,\n",
    "    city='Boston',\n",
    "    target='host_type_Superhost',\n",
    "    outlier=False,\n",
    "    remove_features='host_type_Normal',\n",
    "    classifier=True)"
   ]
  },
  {
   "cell_type": "markdown",
   "metadata": {},
   "source": [
    "##### Boston Amnities"
   ]
  },
  {
   "cell_type": "code",
   "execution_count": null,
   "metadata": {
    "ExecuteTime": {
     "end_time": "2019-03-31T22:35:09.945307Z",
     "start_time": "2019-03-31T22:35:09.016674Z"
    }
   },
   "outputs": [],
   "source": [
    "feature_remove = not_amnities.drop(['host_type_Superhost', 'city_Boston'])\n",
    "model_fit(\n",
    "    df=listing_dummies,\n",
    "    city='Boston',\n",
    "    target='host_type_Superhost',\n",
    "    remove_features=feature_remove,\n",
    "    classifier=True)"
   ]
  },
  {
   "cell_type": "markdown",
   "metadata": {},
   "source": [
    "##### Boston Neighbourhood"
   ]
  },
  {
   "cell_type": "code",
   "execution_count": null,
   "metadata": {
    "ExecuteTime": {
     "end_time": "2019-03-31T22:35:24.589850Z",
     "start_time": "2019-03-31T22:35:23.084284Z"
    }
   },
   "outputs": [],
   "source": [
    "feature_remove = not_neighbourhood.drop(['host_type_Superhost', 'city_Boston'])\n",
    "model_fit(\n",
    "    df=listing_dummies,\n",
    "    city='Boston',\n",
    "    target='host_type_Superhost',\n",
    "    remove_features=feature_remove,\n",
    "    classifier=True)"
   ]
  },
  {
   "cell_type": "markdown",
   "metadata": {},
   "source": [
    "##### Seattle All Features"
   ]
  },
  {
   "cell_type": "code",
   "execution_count": null,
   "metadata": {
    "ExecuteTime": {
     "end_time": "2019-03-31T22:35:39.935208Z",
     "start_time": "2019-03-31T22:35:36.988410Z"
    }
   },
   "outputs": [],
   "source": [
    "model_fit(\n",
    "    df=listing_dummies,\n",
    "    city='Seattle',\n",
    "    target='host_type_Superhost',\n",
    "    outlier=False,\n",
    "    remove_features='host_type_Normal',\n",
    "    classifier=True)"
   ]
  },
  {
   "cell_type": "markdown",
   "metadata": {},
   "source": [
    "##### Seattle Amnities"
   ]
  },
  {
   "cell_type": "code",
   "execution_count": null,
   "metadata": {
    "ExecuteTime": {
     "end_time": "2019-03-31T22:35:53.676320Z",
     "start_time": "2019-03-31T22:35:52.866764Z"
    }
   },
   "outputs": [],
   "source": [
    "feature_remove = not_amnities.drop(['host_type_Superhost', 'city_Seattle'])\n",
    "model_fit(\n",
    "    df=listing_dummies,\n",
    "    city='Seattle',\n",
    "    target='host_type_Superhost',\n",
    "    remove_features=feature_remove,\n",
    "    classifier=True)"
   ]
  },
  {
   "cell_type": "markdown",
   "metadata": {},
   "source": [
    "##### Seattle Neighbourhood"
   ]
  },
  {
   "cell_type": "code",
   "execution_count": null,
   "metadata": {
    "ExecuteTime": {
     "end_time": "2019-03-31T22:36:08.316283Z",
     "start_time": "2019-03-31T22:36:06.713575Z"
    }
   },
   "outputs": [],
   "source": [
    "feature_remove = not_neighbourhood.drop(\n",
    "    ['host_type_Superhost', 'city_Seattle'])\n",
    "model_fit(\n",
    "    df=listing_dummies,\n",
    "    city='Seattle',\n",
    "    target='host_type_Superhost',\n",
    "    remove_features=feature_remove,\n",
    "    classifier=True)"
   ]
  },
  {
   "cell_type": "markdown",
   "metadata": {},
   "source": [
    "### Results"
   ]
  },
  {
   "cell_type": "markdown",
   "metadata": {
    "ExecuteTime": {
     "end_time": "2019-03-31T20:45:48.212147Z",
     "start_time": "2019-03-31T20:45:48.180988Z"
    }
   },
   "source": [
    " - Which are the most importante features that influnce prices?     \n",
    " - Which categories of ammenities are more connected with price and review score?   \n",
    " - How neightbooh helps to determine the price formation?  \n",
    " - Which are the relationship between neightwood and review score?  "
   ]
  },
  {
   "cell_type": "markdown",
   "metadata": {},
   "source": [
    "#### Multivariate EDA"
   ]
  },
  {
   "cell_type": "code",
   "execution_count": null,
   "metadata": {},
   "outputs": [],
   "source": [
    "listing[amnities_dummies_columns] = listing[amnities_dummies_columns].replace([0, 1], ['No', 'Yes'])\n",
    "listing_out = removing_outliers(listing, 'price')"
   ]
  },
  {
   "cell_type": "markdown",
   "metadata": {},
   "source": [
    "##### Price"
   ]
  },
  {
   "cell_type": "code",
   "execution_count": null,
   "metadata": {},
   "outputs": [],
   "source": [
    "\n",
    "rows = 3\n",
    "cols = 2\n",
    "#ax, fig = plt.subplots(rows, cols)\n",
    "sb.set(style=\"white\")\n",
    "sb.set_color_codes(\"pastel\")\n",
    "sb.despine()\n",
    "plt.figure(figsize=(14, 10));\n",
    "\n",
    "\n",
    "#PLOT room_type\n",
    "plt.subplot(rows, cols, 1)\n",
    "violinplot_multi(listing_out, 'room_type', 'price', 'city')\n",
    "\n",
    "#PLOT \"Family/Kid Friendly\"\n",
    "plt.subplot(rows, cols, 2)\n",
    "\n",
    "x = '\"Family/Kid Friendly\"'\n",
    "y = 'price'\n",
    "hue = 'city'\n",
    "violinplot_multi(listing_out, x, y, hue)\n",
    "\n",
    "#PLOT \"Pets live on this property\"\n",
    "plt.subplot(rows, cols, 3)\n",
    "x = '\"Pets live on this property\"'\n",
    "y = 'price'\n",
    "hue = 'city'\n",
    "violinplot_multi(listing_out, x, y, hue)\n",
    "\n",
    "#PLOT 'bedrooms'\n",
    "plt.subplot(rows, cols, 4)\n",
    "x = 'bedrooms'\n",
    "y = 'price'\n",
    "hue = 'city'\n",
    "\n",
    "violinplot_multi(listing, x, y, hue)\n",
    "\n",
    "#PLOT \"Cable TV\"\n",
    "plt.subplot(rows, cols, 5)\n",
    "x = '\"Cable TV\"'\n",
    "y = 'price'\n",
    "hue = 'city'\n",
    "\n",
    "violinplot_multi(listing, x, y, hue)\n",
    "plt.subplots_adjust(hspace=0.3)\n",
    "plt.subplots_adjust(wspace=0.3)\n",
    "\n",
    "sb.despine()\n"
   ]
  },
  {
   "cell_type": "code",
   "execution_count": null,
   "metadata": {
    "ExecuteTime": {
     "end_time": "2019-04-01T01:26:53.061506Z",
     "start_time": "2019-04-01T01:26:52.225634Z"
    }
   },
   "outputs": [],
   "source": [
    "y = 'neighbourhood_cleansed'\n",
    "x = 'price'\n",
    "city = 'Boston'\n",
    "violin_neighbourhood(listing_out, x, y, city)"
   ]
  },
  {
   "cell_type": "code",
   "execution_count": null,
   "metadata": {
    "ExecuteTime": {
     "end_time": "2019-04-01T01:32:48.104040Z",
     "start_time": "2019-04-01T01:32:45.049818Z"
    }
   },
   "outputs": [],
   "source": [
    "y = 'neighbourhood_cleansed'\n",
    "x = 'price'\n",
    "city = 'Seattle'\n",
    "\n",
    "violin_neighbourhood(listing_out, x, y, city, (8, 22))"
   ]
  },
  {
   "cell_type": "markdown",
   "metadata": {},
   "source": [
    "#### Review_scores_value"
   ]
  },
  {
   "cell_type": "code",
   "execution_count": null,
   "metadata": {},
   "outputs": [],
   "source": [
    "\n",
    "rows = 1\n",
    "cols = 2\n",
    "#ax, fig = plt.subplots(rows, cols)\n",
    "sb.set(style=\"white\")\n",
    "sb.set_color_codes(\"pastel\")\n",
    "sb.despine()\n",
    "plt.figure(figsize=(7, 3));\n",
    "\n",
    "\n",
    "#PLOT host_type\n",
    "plt.subplot(rows, cols, 1)\n",
    "x = 'host_type'\n",
    "y = 'review_scores_value'\n",
    "hue = 'city'\n",
    "\n",
    "violinplot_multi(listing_out, x, y, hue)\n",
    "\n",
    "#PLOT \"Wireless Internet\"\n",
    "plt.subplot(rows, cols, 2)\n",
    "x = '\"Wireless Internet\"'\n",
    "y = 'review_scores_value'\n",
    "hue = 'city'\n",
    "\n",
    "violinplot_multi(listing_out, x, y, hue)\n",
    "\n",
    "plt.subplots_adjust(hspace=0.3)\n",
    "plt.subplots_adjust(wspace=0.3)\n",
    "\n",
    "sb.despine()\n"
   ]
  },
  {
   "cell_type": "code",
   "execution_count": null,
   "metadata": {
    "ExecuteTime": {
     "end_time": "2019-04-01T01:42:34.207377Z",
     "start_time": "2019-04-01T01:42:33.414397Z"
    }
   },
   "outputs": [],
   "source": [
    "y = 'neighbourhood_cleansed'\n",
    "x = 'review_scores_value'\n",
    "city = 'Boston'\n",
    "violin_neighbourhood(listing_out, x, y, city)"
   ]
  },
  {
   "cell_type": "code",
   "execution_count": null,
   "metadata": {
    "ExecuteTime": {
     "end_time": "2019-04-01T01:44:04.960345Z",
     "start_time": "2019-04-01T01:44:01.946126Z"
    }
   },
   "outputs": [],
   "source": [
    "y = 'neighbourhood_cleansed'\n",
    "x = 'review_scores_value'\n",
    "city = 'Seattle'\n",
    "\n",
    "violin_neighbourhood(listing_out, x, y, city, (8, 22))"
   ]
  },
  {
   "cell_type": "markdown",
   "metadata": {},
   "source": [
    "### Deployment\n",
    "The main insights are deployment in my blog on Medium.  \n",
    "https://medium.com/@williamflorezmaestre/the-power-of-machine-learning-to-business-airbnb-seattle-boston-6175fda0d1e0"
   ]
  },
  {
   "cell_type": "code",
   "execution_count": null,
   "metadata": {},
   "outputs": [],
   "source": []
  }
 ],
 "metadata": {
  "gist": {
   "data": {
    "description": "Notebook/The power of machine learning to business-Applying ML to Airbnb by William F V2.ipynb",
    "public": true
   },
   "id": ""
  },
  "hide_input": false,
  "kernelspec": {
   "display_name": "Python 3",
   "language": "python",
   "name": "python3"
  },
  "language_info": {
   "codemirror_mode": {
    "name": "ipython",
    "version": 3
   },
   "file_extension": ".py",
   "mimetype": "text/x-python",
   "name": "python",
   "nbconvert_exporter": "python",
   "pygments_lexer": "ipython3",
   "version": "3.7.1"
  },
  "notify_time": "5",
  "toc": {
   "base_numbering": 1,
   "nav_menu": {},
   "number_sections": true,
   "sideBar": true,
   "skip_h1_title": false,
   "title_cell": "Table of Contents",
   "title_sidebar": "Contents",
   "toc_cell": true,
   "toc_position": {
    "height": "calc(100% - 180px)",
    "left": "10px",
    "top": "150px",
    "width": "312.173px"
   },
   "toc_section_display": true,
   "toc_window_display": false
  },
  "varInspector": {
   "cols": {
    "lenName": 16,
    "lenType": 16,
    "lenVar": 40
   },
   "kernels_config": {
    "python": {
     "delete_cmd_postfix": "",
     "delete_cmd_prefix": "del ",
     "library": "var_list.py",
     "varRefreshCmd": "print(var_dic_list())"
    },
    "r": {
     "delete_cmd_postfix": ") ",
     "delete_cmd_prefix": "rm(",
     "library": "var_list.r",
     "varRefreshCmd": "cat(var_dic_list()) "
    }
   },
   "oldHeight": 274.900818,
   "position": {
    "height": "275.895px",
    "left": "698.097px",
    "right": "20px",
    "top": "120px",
    "width": "334.332px"
   },
   "types_to_exclude": [
    "module",
    "function",
    "builtin_function_or_method",
    "instance",
    "_Feature"
   ],
   "varInspector_section_display": "block",
   "window_display": false
  }
 },
 "nbformat": 4,
 "nbformat_minor": 1
}
